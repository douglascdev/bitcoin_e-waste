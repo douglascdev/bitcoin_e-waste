{
  "nbformat": 4,
  "nbformat_minor": 0,
  "metadata": {
    "colab": {
      "name": "bitcoin_e-waste_estimation.ipynb",
      "provenance": [],
      "authorship_tag": "ABX9TyPOj7p9qOY5V6vdmpWvl5ou",
      "include_colab_link": true
    },
    "kernelspec": {
      "name": "python3",
      "display_name": "Python 3"
    },
    "language_info": {
      "name": "python"
    }
  },
  "cells": [
    {
      "cell_type": "markdown",
      "metadata": {
        "id": "view-in-github",
        "colab_type": "text"
      },
      "source": [
        "<a href=\"https://colab.research.google.com/github/douglascdev/bitcoin_e-waste/blob/main/bitcoin_e_waste_estimation.ipynb\" target=\"_parent\"><img src=\"https://colab.research.google.com/assets/colab-badge.svg\" alt=\"Open In Colab\"/></a>"
      ]
    },
    {
      "cell_type": "markdown",
      "metadata": {
        "id": "UYOVIv-tMXv1"
      },
      "source": [
        "# Bitcoin e-waste estimate\n",
        "Calculates a rough estimate of how much e-waste is generated per-transaction by the Bitcoin main network, based on the expected lifespan and hashrate of the ASIC Antminer S19J Pro."
      ]
    },
    {
      "cell_type": "code",
      "metadata": {
        "colab": {
          "base_uri": "https://localhost:8080/"
        },
        "id": "g7u4TcMUMXGM",
        "outputId": "f11d829c-6e95-41ce-94aa-9f9ac5de7c9e"
      },
      "source": [
        "import requests\n",
        "\n",
        "\n",
        "class S19JPro:\n",
        "    # Weight in kg, source: https://shop.bitmain.com/product/detail?pid=00020211013151246531XlGe1yl406A0\n",
        "    weight: int = 14.6\n",
        "    # Expected lifespan of 5 years, source: https://finance.yahoo.com/news/gryphon-digital-mining-buy-7-183555748.html\n",
        "    lifespan: int = 5\n",
        "    hashrate_THs: int = 100\n",
        "    # Converts hashrate in TH/s to hashes per second\n",
        "    hashes_per_sec: int = hashrate_THs * 1_000_000_000_000\n",
        "\n",
        "\n",
        "class BlockchainAPI:\n",
        "    @staticmethod\n",
        "    def get_hashrate_GHs() -> int:\n",
        "        \"\"\"\n",
        "    Get the current total hashrate for the Bitcoin network in GH/s\n",
        "    \"\"\"\n",
        "        r = int(requests.get(\"https://blockchain.info/q/hashrate\").json())\n",
        "        print(f\"Hashrate = {r:,} GH/s\")\n",
        "        return r\n",
        "\n",
        "    @staticmethod\n",
        "    def get_num_transactions_24h() -> int:\n",
        "        \"\"\"\n",
        "    Get the number of transations done in the last 24hrs\n",
        "    \"\"\"\n",
        "        r = int(requests.get(\"https://blockchain.info/q/24hrtransactioncount\").json())\n",
        "        print(f\"Transactions in 24 hours = {r:,}\")\n",
        "        return r\n",
        "\n",
        "\n",
        "network_hashrate_in_hashes_per_sec = BlockchainAPI.get_hashrate_GHs() * 1_000_000_000\n",
        "asics_needed_to_match_network_hashrate = int(network_hashrate_in_hashes_per_sec / S19JPro.hashes_per_sec)\n",
        "print(f\"You'd need {asics_needed_to_match_network_hashrate:,} S19J Pros to match the \"\n",
        "      f\"{network_hashrate_in_hashes_per_sec:,} H/s network hashrate\")\n",
        "\n",
        "total_waste_after_expected_lifespan = asics_needed_to_match_network_hashrate * S19JPro.weight\n",
        "yearly_waste = total_waste_after_expected_lifespan / S19JPro.lifespan\n",
        "print(f\"After {S19JPro.lifespan:,} years of operation, {asics_needed_to_match_network_hashrate:,} S19Js would have \"\n",
        "      f\"generated {total_waste_after_expected_lifespan:,} kg of e-waste, {yearly_waste:,} kg per year\")\n",
        "\n",
        "transactions_in_a_year = BlockchainAPI.get_num_transactions_24h() * 365\n",
        "waste_per_transaction = yearly_waste / transactions_in_a_year\n",
        "print(f\"The e-waste generated per transaction would be: {waste_per_transaction * 1_000:.2f}g\")\n",
        "\n",
        "\n",
        "\n",
        "\n",
        "\n",
        "\n",
        "  \n",
        "\n",
        "\n"
      ],
      "execution_count": 6,
      "outputs": [
        {
          "output_type": "stream",
          "name": "stdout",
          "text": [
            "Hashrate = 143,388,851,802 GH/s\n",
            "You'd need 1,433,888 S19J Pros to match the 143,388,851,802,000,000,000 H/s network hashrate\n",
            "After 5 years of operation, 1,433,888 S19Js would have generated 20,934,764.8 kg of e-waste, 4,186,952.96 kg per year\n",
            "Transactions in 24 hours = 268,899\n",
            "The e-waste generated per transaction would be: 42.66g\n"
          ]
        }
      ]
    },
    {
      "cell_type": "code",
      "metadata": {
        "id": "YMge5ixBUFlB"
      },
      "source": [
        ""
      ],
      "execution_count": null,
      "outputs": []
    }
  ]
}